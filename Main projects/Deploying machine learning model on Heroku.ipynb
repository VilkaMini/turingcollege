{
  "nbformat": 4,
  "nbformat_minor": 0,
  "metadata": {
    "kernelspec": {
      "display_name": "Python 3",
      "language": "python",
      "name": "python3"
    },
    "language_info": {
      "codemirror_mode": {
        "name": "ipython",
        "version": 3
      },
      "file_extension": ".py",
      "mimetype": "text/x-python",
      "name": "python",
      "nbconvert_exporter": "python",
      "pygments_lexer": "ipython3",
      "version": "3.7.6"
    },
    "colab": {
      "name": "235.ipynb",
      "provenance": []
    }
  },
  "cells": [
    {
      "cell_type": "markdown",
      "metadata": {
        "id": "L8BtYPSg-svB"
      },
      "source": [
        "# Module 2: Data Engineering\n",
        "## Sprint 3: Deploying Machine Learning Models\n",
        "## Deploying machine learning model"
      ]
    },
    {
      "cell_type": "markdown",
      "metadata": {
        "id": "RjcbmfhO-svL"
      },
      "source": [
        "## Background\n",
        "\n",
        "This is the last lesson of this sprint. You did a great job learning all about web applications, APIs, and application deployment. Now you should be able to create and deploy Flask based application. You also know how to serve trained models and make inference using REST API. Today you will have to test your learnings by completing the final task of this sprint - deploying a machine learning model and tracking its performance."
      ]
    },
    {
      "cell_type": "markdown",
      "metadata": {
        "id": "nL9YESmH-svL"
      },
      "source": [
        "## Predicting the price of house\n",
        "Today you will need to train a simple regression model that can predict house price. You will need to use [this](https://scipy-lectures.org/packages/scikit-learn/auto_examples/plot_boston_prediction.html) provided example and copy-paste the training code. This task is not about training the model but about what comes next in the whole pipeline, so you do not need to worry about this part.\n",
        "\n",
        "## Creating API using Flask\n",
        "This is the step you will need to create an API for the trained model. Create one `POST` type route to access the model. This route should return a JSON response that includes model predictions.\n",
        "\n",
        "## Creating the inference pipeline\n",
        "You will need to make sure that data is passed into the model in the right format. This is why you will need to create a function that transforms JSON type data acquired from request and transform it into the one that the model understands.\n",
        "\n",
        "## Loading model\n",
        "In this step, you will need to load the trained regressor. Use pickle for this task. You should also leave this file in the repository as it will be needed when deploying your application to Heroku.\n",
        "\n",
        "## Deploying the application\n",
        "The is the part where you will need to deploy your application using Heroku. This is the task you had to do in the last lesson. The steps you have to make should not be that different from those that you did when deploying Tesla Factory API. "
      ]
    },
    {
      "cell_type": "markdown",
      "metadata": {
        "id": "Op7UlfSK-svM"
      },
      "source": [
        "## Concepts to explore\n",
        "* Creating an API using Flask\n",
        "* Saving and loading trained models\n",
        "* Creating inference pipeline for the trained model\n",
        "* Deploying Flask application using Heroku"
      ]
    },
    {
      "cell_type": "markdown",
      "metadata": {
        "id": "LDAFpKT7-svM"
      },
      "source": [
        "## Requirements\n",
        "* Model should be trained to successfully perform house price prediction\n",
        "* API should be created that by getting data through `POST` requests, returns response (model's predictions)\n",
        "* Created application should be deployed accessible (provide link to it)"
      ]
    },
    {
      "cell_type": "markdown",
      "metadata": {
        "id": "fGB193En-svM"
      },
      "source": [
        "## Evaluation criteria\n",
        "1. Model is trained and is able to perform price predictions\n",
        "2. API is created using Flask\n",
        "3. Correct preprocessing pipeline is made\n",
        "4. Model is successfully loaded and is reachable through `POST` type route\n",
        "5. Application is deployed and reachable\n",
        "6. Provided source code meets the \"Clean Code\" standards. There are no secrets/passwords left in the code."
      ]
    },
    {
      "cell_type": "markdown",
      "metadata": {
        "id": "50S_GtSsB3J9"
      },
      "source": [
        "\n",
        "\n",
        "---\n",
        "\n"
      ]
    },
    {
      "cell_type": "markdown",
      "metadata": {
        "id": "U6RkCN1iVx7U"
      },
      "source": [
        "## Github link to the code and documentation: [Github/Vilkamini](https://github.com/VilkaMini/turingcollege/tree/main/TC%20235%20files)"
      ]
    },
    {
      "cell_type": "markdown",
      "metadata": {
        "id": "ifgf8cizYpz2"
      },
      "source": [
        "### Link to the deployed program: https://tc-235-house-prices.herokuapp.com/price (Only POST method is allowed)\n"
      ]
    },
    {
      "cell_type": "markdown",
      "metadata": {
        "id": "2xvIQ7PGB07p"
      },
      "source": [
        "# Project:"
      ]
    },
    {
      "cell_type": "code",
      "metadata": {
        "id": "-Bnp9K1YB4bm"
      },
      "source": [
        "import requests\n",
        "import json"
      ],
      "execution_count": null,
      "outputs": []
    },
    {
      "cell_type": "markdown",
      "metadata": {
        "id": "8WJpXUxxPZ9k"
      },
      "source": [
        "## Test #1:\n",
        "One 1 dimensional array."
      ]
    },
    {
      "cell_type": "code",
      "metadata": {
        "id": "sVCaQI-mt6I-"
      },
      "source": [
        "house_no_1 = [6.320e-03, \n",
        "              1.800e+01, \n",
        "              2.310e+00, \n",
        "              0.000e+00, \n",
        "              5.380e-01, \n",
        "              6.575e+00, \n",
        "              6.520e+01, \n",
        "              4.090e+00, \n",
        "              1.000e+00, \n",
        "              2.960e+02, \n",
        "              1.530e+01, \n",
        "              3.969e+02, \n",
        "              4.980e+00]"
      ],
      "execution_count": null,
      "outputs": []
    },
    {
      "cell_type": "code",
      "metadata": {
        "colab": {
          "base_uri": "https://localhost:8080/"
        },
        "id": "TkxTax6Ds8NJ",
        "outputId": "80e77235-8f7b-44b7-9d60-2c9225c5c7aa"
      },
      "source": [
        "response = requests.post(\"https://tc-235-house-prices.herokuapp.com/price\", data=json.dumps(house_no_1))\n",
        "print(response)\n",
        "print(json.loads(response.text)[\"predicted\"])"
      ],
      "execution_count": null,
      "outputs": [
        {
          "output_type": "stream",
          "text": [
            "<Response [200]>\n",
            "[30.360034097439428]\n"
          ],
          "name": "stdout"
        }
      ]
    },
    {
      "cell_type": "markdown",
      "metadata": {
        "id": "9I2y-1XsPlVX"
      },
      "source": [
        "## Test #2:\n",
        "One 2 dimensional array with 2x1 dimensional arrays."
      ]
    },
    {
      "cell_type": "code",
      "metadata": {
        "id": "va_DYNy2u2qa"
      },
      "source": [
        "house_no_2_and_3 = [[2.9850e-02, 0.0000e+00, 2.1800e+00, 0.0000e+00, \n",
        "                     4.5800e-01, 6.4300e+00, 5.8700e+01, 6.0622e+00, \n",
        "                     3.0000e+00, 2.2200e+02, 1.8700e+01, 3.9412e+02, \n",
        "                     5.2100e+00],\n",
        "                    [1.00245, 0.     , 8.14   , 0.     , 0.538  , 6.674  ,\n",
        "                     87.3   , 4.239  , 4.     , 307.   , 21.    , 380.23 ,\n",
        "                     11.98   ],\n",
        "                   ]"
      ],
      "execution_count": null,
      "outputs": []
    },
    {
      "cell_type": "code",
      "metadata": {
        "colab": {
          "base_uri": "https://localhost:8080/"
        },
        "id": "I9Zd8Y2Avpy1",
        "outputId": "cb22d6c7-b44f-4a03-d145-82461994ffe2"
      },
      "source": [
        "response = requests.post(\"https://tc-235-house-prices.herokuapp.com/price\", data=json.dumps(house_no_2_and_3))\n",
        "print(response)\n",
        "print(json.loads(response.text)[\"predicted\"])"
      ],
      "execution_count": null,
      "outputs": [
        {
          "output_type": "stream",
          "text": [
            "<Response [200]>\n",
            "[25.161733394421084, 20.374045650950944]\n"
          ],
          "name": "stdout"
        }
      ]
    },
    {
      "cell_type": "markdown",
      "metadata": {
        "id": "_pJTYr9IPyOX"
      },
      "source": [
        "## Test #3:\n",
        "Wrong input (missing one value)"
      ]
    },
    {
      "cell_type": "code",
      "metadata": {
        "id": "7UhRmcn0QAya"
      },
      "source": [
        "house_no_4 = [4.3370e-02,\n",
        "              2.1000e+01,\n",
        "              5.6400e+00,\n",
        "              0.0000e+00,\n",
        "              4.3900e-01,\n",
        "              6.1150e+00,\n",
        "              6.3000e+01,\n",
        "              6.8147e+00,\n",
        "              4.0000e+00,\n",
        "              2.4300e+02,\n",
        "              1.6800e+01,\n",
        "              3.9397e+02]"
      ],
      "execution_count": null,
      "outputs": []
    },
    {
      "cell_type": "code",
      "metadata": {
        "colab": {
          "base_uri": "https://localhost:8080/"
        },
        "id": "0IL6z0cgQRwu",
        "outputId": "f77bab26-eb39-4cc9-ab9c-6a803a847dec"
      },
      "source": [
        "response = requests.post(\"https://tc-235-house-prices.herokuapp.com/price\", data=json.dumps(house_no_4))\n",
        "print(response)\n",
        "print(json.loads(response.text)[\"error\"])"
      ],
      "execution_count": null,
      "outputs": [
        {
          "output_type": "stream",
          "text": [
            "<Response [400]>\n",
            "INPUT MUST BE A 2D ARRAY\n"
          ],
          "name": "stdout"
        }
      ]
    },
    {
      "cell_type": "markdown",
      "metadata": {
        "id": "tMSeVmEr-svN"
      },
      "source": [
        "\n",
        "## Sample correction questions\n",
        "\n",
        "During a correction, you may get asked questions that test your understanding of covered topics.\n",
        "\n",
        "- What is a REST API? How can you use one to create an interface for your trained models?\n",
        "- How should you choose the right Cloud Services provider? Explain key differences between Heroku and GCP\n",
        "- Why is having an E2E Machine Learning Pipeline important? What are the main parts of it?\n",
        "- How should you ensure the security of the deployed applications?"
      ]
    },
    {
      "cell_type": "code",
      "metadata": {
        "id": "HoZN_Wp8-svN"
      },
      "source": [
        ""
      ],
      "execution_count": null,
      "outputs": []
    }
  ]
}